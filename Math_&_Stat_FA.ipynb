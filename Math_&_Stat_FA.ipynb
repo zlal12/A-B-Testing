{
  "nbformat": 4,
  "nbformat_minor": 0,
  "metadata": {
    "colab": {
      "provenance": []
    },
    "kernelspec": {
      "name": "python3",
      "display_name": "Python 3"
    },
    "language_info": {
      "name": "python"
    }
  },
  "cells": [
    {
      "cell_type": "code",
      "execution_count": 32,
      "metadata": {
        "id": "1mV3yr4_L6lv",
        "colab": {
          "base_uri": "https://localhost:8080/",
          "height": 386
        },
        "outputId": "01903f6a-01c1-4797-9a47-913de8df2469"
      },
      "outputs": [
        {
          "output_type": "error",
          "ename": "ModuleNotFoundError",
          "evalue": "No module named 'pingouin'",
          "traceback": [
            "\u001b[0;31m---------------------------------------------------------------------------\u001b[0m",
            "\u001b[0;31mModuleNotFoundError\u001b[0m                       Traceback (most recent call last)",
            "\u001b[0;32m<ipython-input-32-30013bee303d>\u001b[0m in \u001b[0;36m<cell line: 5>\u001b[0;34m()\u001b[0m\n\u001b[1;32m      3\u001b[0m \u001b[0;32mimport\u001b[0m \u001b[0mmatplotlib\u001b[0m\u001b[0;34m.\u001b[0m\u001b[0mpyplot\u001b[0m \u001b[0;32mas\u001b[0m \u001b[0mplt\u001b[0m\u001b[0;34m\u001b[0m\u001b[0;34m\u001b[0m\u001b[0m\n\u001b[1;32m      4\u001b[0m \u001b[0;32mimport\u001b[0m \u001b[0mseaborn\u001b[0m \u001b[0;32mas\u001b[0m \u001b[0msns\u001b[0m\u001b[0;34m\u001b[0m\u001b[0;34m\u001b[0m\u001b[0m\n\u001b[0;32m----> 5\u001b[0;31m \u001b[0;32mimport\u001b[0m \u001b[0mpingouin\u001b[0m \u001b[0;32mas\u001b[0m \u001b[0mpg\u001b[0m\u001b[0;34m\u001b[0m\u001b[0;34m\u001b[0m\u001b[0m\n\u001b[0m\u001b[1;32m      6\u001b[0m \u001b[0;32mfrom\u001b[0m \u001b[0mstatsmodels\u001b[0m\u001b[0;34m.\u001b[0m\u001b[0mstats\u001b[0m\u001b[0;34m.\u001b[0m\u001b[0mproportion\u001b[0m \u001b[0;32mimport\u001b[0m \u001b[0mproportions_ztest\u001b[0m\u001b[0;34m,\u001b[0m \u001b[0mproportion_confint\u001b[0m\u001b[0;34m\u001b[0m\u001b[0;34m\u001b[0m\u001b[0m\n",
            "\u001b[0;31mModuleNotFoundError\u001b[0m: No module named 'pingouin'",
            "",
            "\u001b[0;31m---------------------------------------------------------------------------\u001b[0;32m\nNOTE: If your import is failing due to a missing package, you can\nmanually install dependencies using either !pip or !apt.\n\nTo view examples of installing some common dependencies, click the\n\"Open Examples\" button below.\n\u001b[0;31m---------------------------------------------------------------------------\u001b[0m\n"
          ],
          "errorDetails": {
            "actions": [
              {
                "action": "open_url",
                "actionText": "Open Examples",
                "url": "/notebooks/snippets/importing_libraries.ipynb"
              }
            ]
          }
        }
      ],
      "source": [
        "import numpy as np\n",
        "import pandas as pd\n",
        "import matplotlib.pyplot as plt\n",
        "import seaborn as sns\n",
        "import pingouin as pg\n",
        "from statsmodels.stats.proportion import proportions_ztest, proportion_confint"
      ]
    },
    {
      "cell_type": "code",
      "source": [
        "from google.colab import drive\n",
        "drive.mount('/content/drive')\n",
        "\n",
        "data = pd.read_csv('/content/sample_data/assessment_da25.csv')"
      ],
      "metadata": {
        "colab": {
          "base_uri": "https://localhost:8080/"
        },
        "id": "nUG7LofE1C_l",
        "outputId": "2895d94d-c475-471a-c272-32c3f9ad16c5"
      },
      "execution_count": null,
      "outputs": [
        {
          "output_type": "stream",
          "name": "stdout",
          "text": [
            "Mounted at /content/drive\n"
          ]
        }
      ]
    },
    {
      "cell_type": "code",
      "source": [
        "from google.colab import drive\n",
        "drive.mount('/content/drive')\n",
        "\n",
        "data = pd.read_csv('/content/drive/MyDrive/Colab Notebooks/assessment_da25.csv')"
      ],
      "metadata": {
        "colab": {
          "base_uri": "https://localhost:8080/"
        },
        "id": "ZPyZ8PN_L9mY",
        "outputId": "45bc5ff9-0db6-44d3-e037-58e4c9e828d6"
      },
      "execution_count": 2,
      "outputs": [
        {
          "output_type": "stream",
          "name": "stdout",
          "text": [
            "Mounted at /content/drive\n"
          ]
        }
      ]
    },
    {
      "cell_type": "code",
      "source": [
        "data"
      ],
      "metadata": {
        "colab": {
          "base_uri": "https://localhost:8080/",
          "height": 424
        },
        "id": "95qlcSW-MY31",
        "outputId": "90d11817-d235-4b80-806d-c6160a3216a9"
      },
      "execution_count": 3,
      "outputs": [
        {
          "output_type": "execute_result",
          "data": {
            "text/plain": [
              "     Variant  Number of page views  GMV (in $)  Number of add to cart  \\\n",
              "0          A                     5        0.00                      0   \n",
              "1          A                     4        0.00                      4   \n",
              "2          A                     4        0.00                      2   \n",
              "3          A                     5        0.00                      0   \n",
              "4          A                     5        0.00                      3   \n",
              "...      ...                   ...         ...                    ...   \n",
              "1995       B                     3        0.00                      1   \n",
              "1996       B                     3        0.00                      1   \n",
              "1997       B                     3        0.00                      2   \n",
              "1998       B                     4       87.08                      2   \n",
              "1999       B                     7        0.00                      5   \n",
              "\n",
              "      Clicks on media  Time on Page (sec)  user_id  \n",
              "0                   2                  74        0  \n",
              "1                   1                  21        1  \n",
              "2                   0                   1        2  \n",
              "3                   1                  26        3  \n",
              "4                   3                  46        4  \n",
              "...               ...                 ...      ...  \n",
              "1995                0                   1     1995  \n",
              "1996                2                  31     1996  \n",
              "1997                0                   3     1997  \n",
              "1998                1                  11     1998  \n",
              "1999                6                  35     1999  \n",
              "\n",
              "[2000 rows x 7 columns]"
            ],
            "text/html": [
              "\n",
              "  <div id=\"df-9e669be2-8adc-4e13-b4a2-be332523a2d7\" class=\"colab-df-container\">\n",
              "    <div>\n",
              "<style scoped>\n",
              "    .dataframe tbody tr th:only-of-type {\n",
              "        vertical-align: middle;\n",
              "    }\n",
              "\n",
              "    .dataframe tbody tr th {\n",
              "        vertical-align: top;\n",
              "    }\n",
              "\n",
              "    .dataframe thead th {\n",
              "        text-align: right;\n",
              "    }\n",
              "</style>\n",
              "<table border=\"1\" class=\"dataframe\">\n",
              "  <thead>\n",
              "    <tr style=\"text-align: right;\">\n",
              "      <th></th>\n",
              "      <th>Variant</th>\n",
              "      <th>Number of page views</th>\n",
              "      <th>GMV (in $)</th>\n",
              "      <th>Number of add to cart</th>\n",
              "      <th>Clicks on media</th>\n",
              "      <th>Time on Page (sec)</th>\n",
              "      <th>user_id</th>\n",
              "    </tr>\n",
              "  </thead>\n",
              "  <tbody>\n",
              "    <tr>\n",
              "      <th>0</th>\n",
              "      <td>A</td>\n",
              "      <td>5</td>\n",
              "      <td>0.00</td>\n",
              "      <td>0</td>\n",
              "      <td>2</td>\n",
              "      <td>74</td>\n",
              "      <td>0</td>\n",
              "    </tr>\n",
              "    <tr>\n",
              "      <th>1</th>\n",
              "      <td>A</td>\n",
              "      <td>4</td>\n",
              "      <td>0.00</td>\n",
              "      <td>4</td>\n",
              "      <td>1</td>\n",
              "      <td>21</td>\n",
              "      <td>1</td>\n",
              "    </tr>\n",
              "    <tr>\n",
              "      <th>2</th>\n",
              "      <td>A</td>\n",
              "      <td>4</td>\n",
              "      <td>0.00</td>\n",
              "      <td>2</td>\n",
              "      <td>0</td>\n",
              "      <td>1</td>\n",
              "      <td>2</td>\n",
              "    </tr>\n",
              "    <tr>\n",
              "      <th>3</th>\n",
              "      <td>A</td>\n",
              "      <td>5</td>\n",
              "      <td>0.00</td>\n",
              "      <td>0</td>\n",
              "      <td>1</td>\n",
              "      <td>26</td>\n",
              "      <td>3</td>\n",
              "    </tr>\n",
              "    <tr>\n",
              "      <th>4</th>\n",
              "      <td>A</td>\n",
              "      <td>5</td>\n",
              "      <td>0.00</td>\n",
              "      <td>3</td>\n",
              "      <td>3</td>\n",
              "      <td>46</td>\n",
              "      <td>4</td>\n",
              "    </tr>\n",
              "    <tr>\n",
              "      <th>...</th>\n",
              "      <td>...</td>\n",
              "      <td>...</td>\n",
              "      <td>...</td>\n",
              "      <td>...</td>\n",
              "      <td>...</td>\n",
              "      <td>...</td>\n",
              "      <td>...</td>\n",
              "    </tr>\n",
              "    <tr>\n",
              "      <th>1995</th>\n",
              "      <td>B</td>\n",
              "      <td>3</td>\n",
              "      <td>0.00</td>\n",
              "      <td>1</td>\n",
              "      <td>0</td>\n",
              "      <td>1</td>\n",
              "      <td>1995</td>\n",
              "    </tr>\n",
              "    <tr>\n",
              "      <th>1996</th>\n",
              "      <td>B</td>\n",
              "      <td>3</td>\n",
              "      <td>0.00</td>\n",
              "      <td>1</td>\n",
              "      <td>2</td>\n",
              "      <td>31</td>\n",
              "      <td>1996</td>\n",
              "    </tr>\n",
              "    <tr>\n",
              "      <th>1997</th>\n",
              "      <td>B</td>\n",
              "      <td>3</td>\n",
              "      <td>0.00</td>\n",
              "      <td>2</td>\n",
              "      <td>0</td>\n",
              "      <td>3</td>\n",
              "      <td>1997</td>\n",
              "    </tr>\n",
              "    <tr>\n",
              "      <th>1998</th>\n",
              "      <td>B</td>\n",
              "      <td>4</td>\n",
              "      <td>87.08</td>\n",
              "      <td>2</td>\n",
              "      <td>1</td>\n",
              "      <td>11</td>\n",
              "      <td>1998</td>\n",
              "    </tr>\n",
              "    <tr>\n",
              "      <th>1999</th>\n",
              "      <td>B</td>\n",
              "      <td>7</td>\n",
              "      <td>0.00</td>\n",
              "      <td>5</td>\n",
              "      <td>6</td>\n",
              "      <td>35</td>\n",
              "      <td>1999</td>\n",
              "    </tr>\n",
              "  </tbody>\n",
              "</table>\n",
              "<p>2000 rows × 7 columns</p>\n",
              "</div>\n",
              "    <div class=\"colab-df-buttons\">\n",
              "\n",
              "  <div class=\"colab-df-container\">\n",
              "    <button class=\"colab-df-convert\" onclick=\"convertToInteractive('df-9e669be2-8adc-4e13-b4a2-be332523a2d7')\"\n",
              "            title=\"Convert this dataframe to an interactive table.\"\n",
              "            style=\"display:none;\">\n",
              "\n",
              "  <svg xmlns=\"http://www.w3.org/2000/svg\" height=\"24px\" viewBox=\"0 -960 960 960\">\n",
              "    <path d=\"M120-120v-720h720v720H120Zm60-500h600v-160H180v160Zm220 220h160v-160H400v160Zm0 220h160v-160H400v160ZM180-400h160v-160H180v160Zm440 0h160v-160H620v160ZM180-180h160v-160H180v160Zm440 0h160v-160H620v160Z\"/>\n",
              "  </svg>\n",
              "    </button>\n",
              "\n",
              "  <style>\n",
              "    .colab-df-container {\n",
              "      display:flex;\n",
              "      gap: 12px;\n",
              "    }\n",
              "\n",
              "    .colab-df-convert {\n",
              "      background-color: #E8F0FE;\n",
              "      border: none;\n",
              "      border-radius: 50%;\n",
              "      cursor: pointer;\n",
              "      display: none;\n",
              "      fill: #1967D2;\n",
              "      height: 32px;\n",
              "      padding: 0 0 0 0;\n",
              "      width: 32px;\n",
              "    }\n",
              "\n",
              "    .colab-df-convert:hover {\n",
              "      background-color: #E2EBFA;\n",
              "      box-shadow: 0px 1px 2px rgba(60, 64, 67, 0.3), 0px 1px 3px 1px rgba(60, 64, 67, 0.15);\n",
              "      fill: #174EA6;\n",
              "    }\n",
              "\n",
              "    .colab-df-buttons div {\n",
              "      margin-bottom: 4px;\n",
              "    }\n",
              "\n",
              "    [theme=dark] .colab-df-convert {\n",
              "      background-color: #3B4455;\n",
              "      fill: #D2E3FC;\n",
              "    }\n",
              "\n",
              "    [theme=dark] .colab-df-convert:hover {\n",
              "      background-color: #434B5C;\n",
              "      box-shadow: 0px 1px 3px 1px rgba(0, 0, 0, 0.15);\n",
              "      filter: drop-shadow(0px 1px 2px rgba(0, 0, 0, 0.3));\n",
              "      fill: #FFFFFF;\n",
              "    }\n",
              "  </style>\n",
              "\n",
              "    <script>\n",
              "      const buttonEl =\n",
              "        document.querySelector('#df-9e669be2-8adc-4e13-b4a2-be332523a2d7 button.colab-df-convert');\n",
              "      buttonEl.style.display =\n",
              "        google.colab.kernel.accessAllowed ? 'block' : 'none';\n",
              "\n",
              "      async function convertToInteractive(key) {\n",
              "        const element = document.querySelector('#df-9e669be2-8adc-4e13-b4a2-be332523a2d7');\n",
              "        const dataTable =\n",
              "          await google.colab.kernel.invokeFunction('convertToInteractive',\n",
              "                                                    [key], {});\n",
              "        if (!dataTable) return;\n",
              "\n",
              "        const docLinkHtml = 'Like what you see? Visit the ' +\n",
              "          '<a target=\"_blank\" href=https://colab.research.google.com/notebooks/data_table.ipynb>data table notebook</a>'\n",
              "          + ' to learn more about interactive tables.';\n",
              "        element.innerHTML = '';\n",
              "        dataTable['output_type'] = 'display_data';\n",
              "        await google.colab.output.renderOutput(dataTable, element);\n",
              "        const docLink = document.createElement('div');\n",
              "        docLink.innerHTML = docLinkHtml;\n",
              "        element.appendChild(docLink);\n",
              "      }\n",
              "    </script>\n",
              "  </div>\n",
              "\n",
              "\n",
              "<div id=\"df-5abc11e3-080f-4b1c-a604-12baf62f4789\">\n",
              "  <button class=\"colab-df-quickchart\" onclick=\"quickchart('df-5abc11e3-080f-4b1c-a604-12baf62f4789')\"\n",
              "            title=\"Suggest charts\"\n",
              "            style=\"display:none;\">\n",
              "\n",
              "<svg xmlns=\"http://www.w3.org/2000/svg\" height=\"24px\"viewBox=\"0 0 24 24\"\n",
              "     width=\"24px\">\n",
              "    <g>\n",
              "        <path d=\"M19 3H5c-1.1 0-2 .9-2 2v14c0 1.1.9 2 2 2h14c1.1 0 2-.9 2-2V5c0-1.1-.9-2-2-2zM9 17H7v-7h2v7zm4 0h-2V7h2v10zm4 0h-2v-4h2v4z\"/>\n",
              "    </g>\n",
              "</svg>\n",
              "  </button>\n",
              "\n",
              "<style>\n",
              "  .colab-df-quickchart {\n",
              "      --bg-color: #E8F0FE;\n",
              "      --fill-color: #1967D2;\n",
              "      --hover-bg-color: #E2EBFA;\n",
              "      --hover-fill-color: #174EA6;\n",
              "      --disabled-fill-color: #AAA;\n",
              "      --disabled-bg-color: #DDD;\n",
              "  }\n",
              "\n",
              "  [theme=dark] .colab-df-quickchart {\n",
              "      --bg-color: #3B4455;\n",
              "      --fill-color: #D2E3FC;\n",
              "      --hover-bg-color: #434B5C;\n",
              "      --hover-fill-color: #FFFFFF;\n",
              "      --disabled-bg-color: #3B4455;\n",
              "      --disabled-fill-color: #666;\n",
              "  }\n",
              "\n",
              "  .colab-df-quickchart {\n",
              "    background-color: var(--bg-color);\n",
              "    border: none;\n",
              "    border-radius: 50%;\n",
              "    cursor: pointer;\n",
              "    display: none;\n",
              "    fill: var(--fill-color);\n",
              "    height: 32px;\n",
              "    padding: 0;\n",
              "    width: 32px;\n",
              "  }\n",
              "\n",
              "  .colab-df-quickchart:hover {\n",
              "    background-color: var(--hover-bg-color);\n",
              "    box-shadow: 0 1px 2px rgba(60, 64, 67, 0.3), 0 1px 3px 1px rgba(60, 64, 67, 0.15);\n",
              "    fill: var(--button-hover-fill-color);\n",
              "  }\n",
              "\n",
              "  .colab-df-quickchart-complete:disabled,\n",
              "  .colab-df-quickchart-complete:disabled:hover {\n",
              "    background-color: var(--disabled-bg-color);\n",
              "    fill: var(--disabled-fill-color);\n",
              "    box-shadow: none;\n",
              "  }\n",
              "\n",
              "  .colab-df-spinner {\n",
              "    border: 2px solid var(--fill-color);\n",
              "    border-color: transparent;\n",
              "    border-bottom-color: var(--fill-color);\n",
              "    animation:\n",
              "      spin 1s steps(1) infinite;\n",
              "  }\n",
              "\n",
              "  @keyframes spin {\n",
              "    0% {\n",
              "      border-color: transparent;\n",
              "      border-bottom-color: var(--fill-color);\n",
              "      border-left-color: var(--fill-color);\n",
              "    }\n",
              "    20% {\n",
              "      border-color: transparent;\n",
              "      border-left-color: var(--fill-color);\n",
              "      border-top-color: var(--fill-color);\n",
              "    }\n",
              "    30% {\n",
              "      border-color: transparent;\n",
              "      border-left-color: var(--fill-color);\n",
              "      border-top-color: var(--fill-color);\n",
              "      border-right-color: var(--fill-color);\n",
              "    }\n",
              "    40% {\n",
              "      border-color: transparent;\n",
              "      border-right-color: var(--fill-color);\n",
              "      border-top-color: var(--fill-color);\n",
              "    }\n",
              "    60% {\n",
              "      border-color: transparent;\n",
              "      border-right-color: var(--fill-color);\n",
              "    }\n",
              "    80% {\n",
              "      border-color: transparent;\n",
              "      border-right-color: var(--fill-color);\n",
              "      border-bottom-color: var(--fill-color);\n",
              "    }\n",
              "    90% {\n",
              "      border-color: transparent;\n",
              "      border-bottom-color: var(--fill-color);\n",
              "    }\n",
              "  }\n",
              "</style>\n",
              "\n",
              "  <script>\n",
              "    async function quickchart(key) {\n",
              "      const quickchartButtonEl =\n",
              "        document.querySelector('#' + key + ' button');\n",
              "      quickchartButtonEl.disabled = true;  // To prevent multiple clicks.\n",
              "      quickchartButtonEl.classList.add('colab-df-spinner');\n",
              "      try {\n",
              "        const charts = await google.colab.kernel.invokeFunction(\n",
              "            'suggestCharts', [key], {});\n",
              "      } catch (error) {\n",
              "        console.error('Error during call to suggestCharts:', error);\n",
              "      }\n",
              "      quickchartButtonEl.classList.remove('colab-df-spinner');\n",
              "      quickchartButtonEl.classList.add('colab-df-quickchart-complete');\n",
              "    }\n",
              "    (() => {\n",
              "      let quickchartButtonEl =\n",
              "        document.querySelector('#df-5abc11e3-080f-4b1c-a604-12baf62f4789 button');\n",
              "      quickchartButtonEl.style.display =\n",
              "        google.colab.kernel.accessAllowed ? 'block' : 'none';\n",
              "    })();\n",
              "  </script>\n",
              "</div>\n",
              "    </div>\n",
              "  </div>\n"
            ],
            "application/vnd.google.colaboratory.intrinsic+json": {
              "type": "dataframe",
              "variable_name": "data",
              "summary": "{\n  \"name\": \"data\",\n  \"rows\": 2000,\n  \"fields\": [\n    {\n      \"column\": \"Variant\",\n      \"properties\": {\n        \"dtype\": \"category\",\n        \"num_unique_values\": 2,\n        \"samples\": [\n          \"B\",\n          \"A\"\n        ],\n        \"semantic_type\": \"\",\n        \"description\": \"\"\n      }\n    },\n    {\n      \"column\": \"Number of page views\",\n      \"properties\": {\n        \"dtype\": \"number\",\n        \"std\": 2,\n        \"min\": 0,\n        \"max\": 15,\n        \"num_unique_values\": 16,\n        \"samples\": [\n          5,\n          4\n        ],\n        \"semantic_type\": \"\",\n        \"description\": \"\"\n      }\n    },\n    {\n      \"column\": \"GMV (in $)\",\n      \"properties\": {\n        \"dtype\": \"number\",\n        \"std\": 27.861281502218684,\n        \"min\": 0.0,\n        \"max\": 152.61,\n        \"num_unique_values\": 176,\n        \"samples\": [\n          112.65,\n          76.23\n        ],\n        \"semantic_type\": \"\",\n        \"description\": \"\"\n      }\n    },\n    {\n      \"column\": \"Number of add to cart\",\n      \"properties\": {\n        \"dtype\": \"number\",\n        \"std\": 1,\n        \"min\": 0,\n        \"max\": 10,\n        \"num_unique_values\": 10,\n        \"samples\": [\n          7,\n          4\n        ],\n        \"semantic_type\": \"\",\n        \"description\": \"\"\n      }\n    },\n    {\n      \"column\": \"Clicks on media\",\n      \"properties\": {\n        \"dtype\": \"number\",\n        \"std\": 1,\n        \"min\": 0,\n        \"max\": 7,\n        \"num_unique_values\": 8,\n        \"samples\": [\n          1,\n          5\n        ],\n        \"semantic_type\": \"\",\n        \"description\": \"\"\n      }\n    },\n    {\n      \"column\": \"Time on Page (sec)\",\n      \"properties\": {\n        \"dtype\": \"number\",\n        \"std\": 19,\n        \"min\": 1,\n        \"max\": 143,\n        \"num_unique_values\": 105,\n        \"samples\": [\n          15,\n          47\n        ],\n        \"semantic_type\": \"\",\n        \"description\": \"\"\n      }\n    },\n    {\n      \"column\": \"user_id\",\n      \"properties\": {\n        \"dtype\": \"number\",\n        \"std\": 577,\n        \"min\": 0,\n        \"max\": 1999,\n        \"num_unique_values\": 2000,\n        \"samples\": [\n          1860,\n          353\n        ],\n        \"semantic_type\": \"\",\n        \"description\": \"\"\n      }\n    }\n  ]\n}"
            }
          },
          "metadata": {},
          "execution_count": 3
        }
      ]
    },
    {
      "cell_type": "code",
      "source": [
        "data.info()"
      ],
      "metadata": {
        "colab": {
          "base_uri": "https://localhost:8080/"
        },
        "id": "ObzvRjJRZN_h",
        "outputId": "62847df0-7cf3-4fa7-b135-212bec4e708c"
      },
      "execution_count": 4,
      "outputs": [
        {
          "output_type": "stream",
          "name": "stdout",
          "text": [
            "<class 'pandas.core.frame.DataFrame'>\n",
            "RangeIndex: 2000 entries, 0 to 1999\n",
            "Data columns (total 7 columns):\n",
            " #   Column                 Non-Null Count  Dtype  \n",
            "---  ------                 --------------  -----  \n",
            " 0   Variant                2000 non-null   object \n",
            " 1   Number of page views   2000 non-null   int64  \n",
            " 2   GMV (in $)             2000 non-null   float64\n",
            " 3   Number of add to cart  2000 non-null   int64  \n",
            " 4   Clicks on media        2000 non-null   int64  \n",
            " 5   Time on Page (sec)     2000 non-null   int64  \n",
            " 6   user_id                2000 non-null   int64  \n",
            "dtypes: float64(1), int64(5), object(1)\n",
            "memory usage: 109.5+ KB\n"
          ]
        }
      ]
    },
    {
      "cell_type": "markdown",
      "source": [
        "# **Internal validity check: Sample Ratio Mismatch (SRM)**\n",
        "\n",
        "Checking whether the number of users is not skewed on a specific condition"
      ],
      "metadata": {
        "id": "CU_hKomrgZj8"
      }
    },
    {
      "cell_type": "code",
      "source": [
        "# Calculate the unique IDs per variant\n",
        "data.groupby('Variant')['user_id'].nunique()\n",
        "\n",
        "# Assign the unique counts to each variant\n",
        "control_users = data[data['Variant']=='A']['user_id'].nunique()\n",
        "exposed_users = data[data['Variant']=='B']['user_id'].nunique()\n",
        "total_users = control_users + exposed_users\n",
        "\n",
        "# Calculate allocation ratios per variant\n",
        "control_perc = control_users / total_users\n",
        "exposed_perc = exposed_users / total_users\n",
        "print(\"Percentage of users in the control group: \", 100*round(control_perc,5), \"%\")\n",
        "print(\"Percentage of users in the exposed group: \", 100*round(exposed_perc,5), \"%\")"
      ],
      "metadata": {
        "colab": {
          "base_uri": "https://localhost:8080/"
        },
        "id": "tFyzARFsflc8",
        "outputId": "77ea9f8c-ee14-4fc4-d7f5-5bafaa525383"
      },
      "execution_count": 5,
      "outputs": [
        {
          "output_type": "stream",
          "name": "stdout",
          "text": [
            "Percentage of users in the control group:  50.0 %\n",
            "Percentage of users in the exposed group:  50.0 %\n"
          ]
        }
      ]
    },
    {
      "cell_type": "code",
      "source": [
        "# Create lists of observed and expected counts per variant\n",
        "observed = [control_users, exposed_users]\n",
        "expected = [total_users/2, total_users/2]\n",
        "\n",
        "# Import chisquare from scipy library\n",
        "from scipy.stats import chisquare\n",
        "\n",
        "# Run chisquare test on observed and expected lists\n",
        "chi = chisquare(observed, f_exp=expected)\n",
        "\n",
        "# Print test results and interpretation\n",
        "print(chi)\n",
        "if chi[1] > 0.01 :\n",
        "\tprint(\"SRM may be present\")\n",
        "else:\n",
        "\tprint(\"SRM likely not present\")"
      ],
      "metadata": {
        "colab": {
          "base_uri": "https://localhost:8080/"
        },
        "id": "DIFAYrNQgTl1",
        "outputId": "4e0ffe7a-6b52-4b8b-c17f-25391f6e1726"
      },
      "execution_count": 6,
      "outputs": [
        {
          "output_type": "stream",
          "name": "stdout",
          "text": [
            "Power_divergenceResult(statistic=0.0, pvalue=1.0)\n",
            "SRM may be present\n"
          ]
        }
      ]
    },
    {
      "cell_type": "markdown",
      "source": [
        "# **Analyzing difference**\n",
        "\n",
        "1. Number of pages view"
      ],
      "metadata": {
        "id": "r60jEXlLjjLV"
      }
    },
    {
      "cell_type": "code",
      "source": [
        "# Getting insights of the data. Which variable had a different result depending on the condition?\n",
        "\n",
        "# Calculate the number of users in groups A and B\n",
        "n_np_A = data[data['Variant'] == 'A']['Number of page views'].count()\n",
        "n_np_B = data[data['Variant'] == 'B']['Number of page views'].count()\n",
        "print('Group A users:', n_np_A)\n",
        "print('Group B users:', n_np_B)\n",
        "\n",
        "# Calculate the mean Number of page views rates of group A and B\n",
        "p_np_A = data[data['Variant'] == 'A']['Number of page views'].mean()\n",
        "p_np_B = data[data['Variant'] == 'B']['Number of page views'].mean()\n",
        "print('Group A mean purchase rate:', p_np_A)\n",
        "print('Group B mean purchase rate:', p_np_B)"
      ],
      "metadata": {
        "colab": {
          "base_uri": "https://localhost:8080/"
        },
        "id": "fw_NzEYEcUgs",
        "outputId": "a20ff82d-9c44-4407-c724-63d5ab038ee2"
      },
      "execution_count": 7,
      "outputs": [
        {
          "output_type": "stream",
          "name": "stdout",
          "text": [
            "Group A users: 1000\n",
            "Group B users: 1000\n",
            "Group A mean purchase rate: 4.985\n",
            "Group B mean purchase rate: 5.317\n"
          ]
        }
      ]
    },
    {
      "cell_type": "code",
      "source": [
        "figsize = (12, 1.2 * len(data['Variant'].unique()))\n",
        "plt.figure(figsize=figsize)\n",
        "sns.violinplot(data, x='Number of page views', y='Variant', inner='box', palette='Set2')\n",
        "sns.despine(top=True, right=True, bottom=True, left=True)"
      ],
      "metadata": {
        "colab": {
          "base_uri": "https://localhost:8080/",
          "height": 357
        },
        "id": "2dF6InBkQpPO",
        "outputId": "c5a5ae61-6346-4b30-99ba-261ea9388f86"
      },
      "execution_count": 8,
      "outputs": [
        {
          "output_type": "stream",
          "name": "stderr",
          "text": [
            "<ipython-input-8-50d332ae4189>:3: FutureWarning: \n",
            "\n",
            "Passing `palette` without assigning `hue` is deprecated and will be removed in v0.14.0. Assign the `y` variable to `hue` and set `legend=False` for the same effect.\n",
            "\n",
            "  sns.violinplot(data, x='Number of page views', y='Variant', inner='box', palette='Set2')\n"
          ]
        },
        {
          "output_type": "display_data",
          "data": {
            "text/plain": [
              "<Figure size 1200x240 with 1 Axes>"
            ],
            "image/png": "[encoded data removed]"
          },
          "metadata": {}
        }
      ]
    },
    {
      "cell_type": "code",
      "source": [
        "# Calculate the number of users in group A and B\n",
        "n_np_A = data[data['Variant'] == 'A']['Number of page views'].nunique()\n",
        "n_np_B = data[data['Variant'] == 'B']['Number of page views'].nunique()\n",
        "\n",
        "print('Group A users:', n_np_A)\n",
        "print('Group B users:', n_np_B)"
      ],
      "metadata": {
        "colab": {
          "base_uri": "https://localhost:8080/"
        },
        "id": "qWTKiPXDnOaa",
        "outputId": "7b986765-f0ce-4c29-9915-979c2daee8ce"
      },
      "execution_count": 19,
      "outputs": [
        {
          "output_type": "stream",
          "name": "stdout",
          "text": [
            "Group A users: 13\n",
            "Group B users: 16\n"
          ]
        }
      ]
    },
    {
      "cell_type": "code",
      "source": [
        "# Compute unique purchasers in each group\n",
        "pageviews_A = data[data['Variant'] == 'A'].groupby('user_id')['Number of page views'].max().sum()\n",
        "pageviews_B = data[data['Variant'] == 'B'].groupby('user_id')['Number of page views'].max().sum()\n",
        "\n",
        "# Assign groups lists\n",
        "pageviews_abtest = [pageviews_A, pageviews_B]\n",
        "n_abtest = [n_np_A, n_np_B]"
      ],
      "metadata": {
        "id": "JFrmOXyNqInV"
      },
      "execution_count": 20,
      "outputs": []
    },
    {
      "cell_type": "code",
      "source": [
        "# Calculate p-value and confidence intervals\n",
        "z_stat, pvalue = proportions_ztest(pageviews_abtest, n_abtest)\n",
        "\n",
        "# Calculate confidence intervals\n",
        "(A_lo95, B_lo95), (A_up95, B_up95) = proportion_confint(pageviews_abtest, nobs=n_abtest, alpha=0.05)\n",
        "\n",
        "# Print the p-value and confidence intervals\n",
        "print(f'p-value: {pvalue:.4f}')\n",
        "print(f'Group A 95% CI : [{A_lo95:.4f}, {A_up95:.4f}]')\n",
        "print(f'Group B 95% CI : [{B_lo95:.4f}, {B_up95:.4f}]')"
      ],
      "metadata": {
        "colab": {
          "base_uri": "https://localhost:8080/"
        },
        "id": "T0s3ZoDJqmur",
        "outputId": "d05c68ea-2e9e-4fc8-8905-936220c7c93f"
      },
      "execution_count": 24,
      "outputs": [
        {
          "output_type": "stream",
          "name": "stdout",
          "text": [
            "p-value: nan\n",
            "Group A 95% CI : [nan, nan]\n",
            "Group B 95% CI : [nan, nan]\n"
          ]
        }
      ]
    },
    {
      "cell_type": "code",
      "source": [
        "# Calculate the mean and count of time on page by variant\n",
        "print(data.groupby('Variant')['Number of page views'].agg({'mean', 'count'}))\n",
        "\n",
        "# Set random seed for repeatability\n",
        "np.random.seed(40)\n",
        "\n",
        "# Take a random sample of size 25 from each variant\n",
        "ToP_samp_A = data[data['Variant'] == 'A'].sample(25)['Number of page views']\n",
        "ToP_samp_B = data[data['Variant'] == 'B'].sample(25)['Number of page views']"
      ],
      "metadata": {
        "colab": {
          "base_uri": "https://localhost:8080/"
        },
        "id": "qoHokd_613Z7",
        "outputId": "b64eab26-bf9c-4f82-e46d-395d23eae162"
      },
      "execution_count": 27,
      "outputs": [
        {
          "output_type": "stream",
          "name": "stdout",
          "text": [
            "          mean  count\n",
            "Variant              \n",
            "A        4.985   1000\n",
            "B        5.317   1000\n"
          ]
        }
      ]
    },
    {
      "cell_type": "code",
      "source": [
        "# Run a Mann-Whitney U test\n",
        "mwu_test = pingouin.mwu(x=ToP_samp_A,\n",
        "\t\t\t\t\t\t\t\t\t\t\t\ty=ToP_samp_B,\n",
        "\t\t\t\t\t\t\t\t\t\t\t\talternative='two-sided')\n",
        "\n",
        "# Print the test results\n",
        "print(mwu_test)"
      ],
      "metadata": {
        "colab": {
          "base_uri": "https://localhost:8080/",
          "height": 221
        },
        "id": "UI39mgh02JJb",
        "outputId": "2af21b21-1f82-4976-8744-3911416767fd"
      },
      "execution_count": 28,
      "outputs": [
        {
          "output_type": "error",
          "ename": "NameError",
          "evalue": "name 'pingouin' is not defined",
          "traceback": [
            "\u001b[0;31m---------------------------------------------------------------------------\u001b[0m",
            "\u001b[0;31mNameError\u001b[0m                                 Traceback (most recent call last)",
            "\u001b[0;32m<ipython-input-28-fa8bb3d156f9>\u001b[0m in \u001b[0;36m<cell line: 2>\u001b[0;34m()\u001b[0m\n\u001b[1;32m      1\u001b[0m \u001b[0;31m# Run a Mann-Whitney U test\u001b[0m\u001b[0;34m\u001b[0m\u001b[0;34m\u001b[0m\u001b[0m\n\u001b[0;32m----> 2\u001b[0;31m mwu_test = pingouin.mwu(x=ToP_samp_A,\n\u001b[0m\u001b[1;32m      3\u001b[0m                                                                                                 \u001b[0my\u001b[0m\u001b[0;34m=\u001b[0m\u001b[0mToP_samp_B\u001b[0m\u001b[0;34m,\u001b[0m\u001b[0;34m\u001b[0m\u001b[0;34m\u001b[0m\u001b[0m\n\u001b[1;32m      4\u001b[0m \t\t\t\t\t\t\t\t\t\t\t\talternative='two-sided')\n\u001b[1;32m      5\u001b[0m \u001b[0;34m\u001b[0m\u001b[0m\n",
            "\u001b[0;31mNameError\u001b[0m: name 'pingouin' is not defined"
          ]
        }
      ]
    },
    {
      "cell_type": "markdown",
      "source": [
        "2. Number of add to cart"
      ],
      "metadata": {
        "id": "enW7Tm7ryseF"
      }
    },
    {
      "cell_type": "code",
      "source": [
        "# Getting insights of the data. Which variable had a different result depending on the condition?\n",
        "\n",
        "# Calculate the number of users in groups A and B\n",
        "n_nac_A = data[data['Variant'] == 'A']['Number of add to cart'].count()\n",
        "n_nac_B = data[data['Variant'] == 'B']['Number of add to cart'].count()\n",
        "print('Group A users:', n_nac_A)\n",
        "print('Group B users:', n_nac_B)\n",
        "\n",
        "# Calculate the mean Number of page views rates of group A and B\n",
        "p_nac_A = data[data['Variant'] == 'A']['Number of add to cart'].mean()\n",
        "p_nac_B = data[data['Variant'] == 'B']['Number of add to cart'].mean()\n",
        "print('Group A mean purchase rate:', p_nac_A)\n",
        "print('Group B mean purchase rate:', p_nac_B)"
      ],
      "metadata": {
        "colab": {
          "base_uri": "https://localhost:8080/"
        },
        "id": "9PpvErMqyr4H",
        "outputId": "f5f306ca-8a53-4036-97b9-db5aa8a2c440"
      },
      "execution_count": 11,
      "outputs": [
        {
          "output_type": "stream",
          "name": "stdout",
          "text": [
            "Group A users: 1000\n",
            "Group B users: 1000\n",
            "Group A mean purchase rate: 1.884\n",
            "Group B mean purchase rate: 2.469\n"
          ]
        }
      ]
    },
    {
      "cell_type": "code",
      "source": [
        "figsize = (12, 1.2 * len(data['Variant'].unique()))\n",
        "plt.figure(figsize=figsize)\n",
        "sns.violinplot(data, x='Number of add to cart', y='Variant', inner='box', palette='Set2')\n",
        "sns.despine(top=True, right=True, bottom=True, left=True)"
      ],
      "metadata": {
        "colab": {
          "base_uri": "https://localhost:8080/",
          "height": 343
        },
        "id": "XmRQTYG8R8fs",
        "outputId": "23e9c1ed-f410-473c-a265-9b8d5c3c5ba8"
      },
      "execution_count": null,
      "outputs": [
        {
          "output_type": "stream",
          "name": "stderr",
          "text": [
            "<ipython-input-6-c7b77773dcbf>:4: FutureWarning: \n",
            "\n",
            "Passing `palette` without assigning `hue` is deprecated and will be removed in v0.14.0. Assign the `y` variable to `hue` and set `legend=False` for the same effect.\n",
            "\n",
            "  sns.violinplot(data, x='Number of add to cart', y='Variant', inner='box', palette='Set2')\n"
          ]
        },
        {
          "output_type": "display_data",
          "data": {
            "text/plain": [
              "<Figure size 1200x240 with 1 Axes>"
            ],
            "image/png": "[encoded data removed]"
          },
          "metadata": {}
        }
      ]
    },
    {
      "cell_type": "code",
      "source": [
        "# Calculate the number of users in group A and B\n",
        "n_nac_A = data[data['Variant'] == 'A']['Number of add to cart'].nunique()\n",
        "n_nac_B = data[data['Variant'] == 'B']['Number of add to cart'].nunique()\n",
        "\n",
        "print('Group A users:', n_nac_A)\n",
        "print('Group B users:', n_nac_B)"
      ],
      "metadata": {
        "colab": {
          "base_uri": "https://localhost:8080/"
        },
        "id": "cphJ4kW8zCuW",
        "outputId": "9c02c555-da97-44c1-b91f-57227e31a29c"
      },
      "execution_count": 13,
      "outputs": [
        {
          "output_type": "stream",
          "name": "stdout",
          "text": [
            "Group A users: 8\n",
            "Group B users: 10\n"
          ]
        }
      ]
    },
    {
      "cell_type": "code",
      "source": [
        "# Compute unique purchasers in each group\n",
        "addtocart_A = data[data['Variant'] == 'A'].groupby('user_id')['Number of add to cart'].max().sum()\n",
        "addtocart_B = data[data['Variant'] == 'B'].groupby('user_id')['Number of add to cart'].max().sum()\n",
        "\n",
        "# Assign groups lists\n",
        "addtocart_abtest = [addtocart_A, adtocart_B]\n",
        "n_abtest = [n_nac_A, n_nac_B]"
      ],
      "metadata": {
        "id": "otTrGiAGzRvP"
      },
      "execution_count": null,
      "outputs": []
    },
    {
      "cell_type": "code",
      "source": [
        "# Calculate p-value and confidence intervals\n",
        "z_stat, pvalue = proportions_ztest(addtocart_abtest, nobs=n_abtest)\n",
        "(A_lo95, B_lo95), (A_up95, B_up95) = proportion_confint(addtocart_abtest, nobs=n_abtest, alpha=0.05)\n",
        "\n",
        "# Print the p-value and confidence intervals\n",
        "pprint(f'p-value: {pvalue:.4f}')\n",
        "print(f'Group A 95% CI : [{A_lo95:.4f}, {A_up95:.4f}]')\n",
        "print(f'Group B 95% CI : [{B_lo95:.4f}, {B_up95:.4f}]')"
      ],
      "metadata": {
        "id": "ZgYaXzjozTgJ"
      },
      "execution_count": null,
      "outputs": []
    },
    {
      "cell_type": "code",
      "source": [
        "# 3. Clicks on media\n",
        "data.groupby('Variant')['Clicks on media'].mean()"
      ],
      "metadata": {
        "colab": {
          "base_uri": "https://localhost:8080/"
        },
        "id": "_4XXxlZvYS0f",
        "outputId": "7d9d23e8-d398-4c25-eb00-a10760d0d2ed"
      },
      "execution_count": null,
      "outputs": [
        {
          "output_type": "execute_result",
          "data": {
            "text/plain": [
              "Variant\n",
              "A    1.495\n",
              "B    1.324\n",
              "Name: Clicks on media, dtype: float64"
            ]
          },
          "metadata": {},
          "execution_count": 13
        }
      ]
    },
    {
      "cell_type": "code",
      "source": [
        "figsize = (12, 1.2 * len(data['Variant'].unique()))\n",
        "plt.figure(figsize=figsize)\n",
        "sns.violinplot(data, x='Clicks on media', y='Variant', inner='box', palette='Set2')\n",
        "sns.despine(top=True, right=True, bottom=True, left=True)"
      ],
      "metadata": {
        "colab": {
          "base_uri": "https://localhost:8080/",
          "height": 342
        },
        "id": "880gFCplSUnf",
        "outputId": "a2c4bdeb-1db5-4e3e-8d96-fc61ab071ec2"
      },
      "execution_count": null,
      "outputs": [
        {
          "output_type": "stream",
          "name": "stderr",
          "text": [
            "<ipython-input-7-d436faf048cf>:4: FutureWarning: \n",
            "\n",
            "Passing `palette` without assigning `hue` is deprecated and will be removed in v0.14.0. Assign the `y` variable to `hue` and set `legend=False` for the same effect.\n",
            "\n",
            "  sns.violinplot(data, x='Clicks on media', y='Variant', inner='box', palette='Set2')\n"
          ]
        },
        {
          "output_type": "display_data",
          "data": {
            "text/plain": [
              "<Figure size 1200x240 with 1 Axes>"
            ],
            "image/png": "[encoded data removed]"
          },
          "metadata": {}
        }
      ]
    },
    {
      "cell_type": "code",
      "source": [
        "# 4. Time on Page (sec)\n",
        "data.groupby('Variant')['Time on Page (sec)'].mean()"
      ],
      "metadata": {
        "colab": {
          "base_uri": "https://localhost:8080/"
        },
        "id": "JYy1A0ouYZap",
        "outputId": "de40590b-8b86-424f-a65a-6939291ff188"
      },
      "execution_count": null,
      "outputs": [
        {
          "output_type": "execute_result",
          "data": {
            "text/plain": [
              "Variant\n",
              "A    20.543\n",
              "B    20.047\n",
              "Name: Time on Page (sec), dtype: float64"
            ]
          },
          "metadata": {},
          "execution_count": 14
        }
      ]
    },
    {
      "cell_type": "code",
      "source": [
        "figsize = (12, 1.2 * len(data['Variant'].unique()))\n",
        "plt.figure(figsize=figsize)\n",
        "sns.violinplot(data, x='Time on Page (sec)', y='Variant', inner='box', palette='Set2')\n",
        "sns.despine(top=True, right=True, bottom=True, left=True)"
      ],
      "metadata": {
        "colab": {
          "base_uri": "https://localhost:8080/",
          "height": 342
        },
        "id": "7dSTX2VCVY3D",
        "outputId": "a611e0b1-9d09-47fb-a42d-3c1e64cd64e8"
      },
      "execution_count": null,
      "outputs": [
        {
          "output_type": "stream",
          "name": "stderr",
          "text": [
            "<ipython-input-8-f80713eaf9fa>:4: FutureWarning: \n",
            "\n",
            "Passing `palette` without assigning `hue` is deprecated and will be removed in v0.14.0. Assign the `y` variable to `hue` and set `legend=False` for the same effect.\n",
            "\n",
            "  sns.violinplot(data, x='Time on Page (sec)', y='Variant', inner='box', palette='Set2')\n"
          ]
        },
        {
          "output_type": "display_data",
          "data": {
            "text/plain": [
              "<Figure size 1200x240 with 1 Axes>"
            ],
            "image/png": "[encoded data removed]"
          },
          "metadata": {}
        }
      ]
    },
    {
      "cell_type": "code",
      "source": [
        "# 5. GMV (in $)\n",
        "data.groupby('Variant')['GMV (in $)'].mean()"
      ],
      "metadata": {
        "colab": {
          "base_uri": "https://localhost:8080/"
        },
        "id": "1vlYandkYfwU",
        "outputId": "1fb1c906-25ed-452d-9f2b-4d263b4ef7ed"
      },
      "execution_count": null,
      "outputs": [
        {
          "output_type": "execute_result",
          "data": {
            "text/plain": [
              "Variant\n",
              "A    7.68999\n",
              "B    9.28953\n",
              "Name: GMV (in $), dtype: float64"
            ]
          },
          "metadata": {},
          "execution_count": 15
        }
      ]
    },
    {
      "cell_type": "code",
      "source": [
        "figsize = (12, 1.2 * len(data['Variant'].unique()))\n",
        "plt.figure(figsize=figsize)\n",
        "sns.violinplot(data, x='GMV (in $)', y='Variant', inner='box', palette='Set2')\n",
        "sns.despine(top=True, right=True, bottom=True, left=True)"
      ],
      "metadata": {
        "colab": {
          "base_uri": "https://localhost:8080/",
          "height": 340
        },
        "id": "vg3k8QT4Sa7Q",
        "outputId": "60f34571-9b41-45d1-f2d1-19eaa0c26feb"
      },
      "execution_count": null,
      "outputs": [
        {
          "output_type": "stream",
          "name": "stderr",
          "text": [
            "<ipython-input-21-5a5a9903ec24>:4: FutureWarning: \n",
            "\n",
            "Passing `palette` without assigning `hue` is deprecated and will be removed in v0.14.0. Assign the `y` variable to `hue` and set `legend=False` for the same effect.\n",
            "\n",
            "  sns.violinplot(data, x='GMV (in $)', y='Variant', inner='box', palette='Set2')\n"
          ]
        },
        {
          "output_type": "display_data",
          "data": {
            "text/plain": [
              "<Figure size 1200x240 with 1 Axes>"
            ],
            "image/png": "[encoded data removed]"
          },
          "metadata": {}
        }
      ]
    },
    {
      "cell_type": "code",
      "source": [
        "# Finding useful metrics - 1. Number of page views\n"
      ],
      "metadata": {
        "id": "tuwHwshLMa4z"
      },
      "execution_count": null,
      "outputs": []
    }
  ]
}